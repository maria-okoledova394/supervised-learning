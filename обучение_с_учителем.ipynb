{
 "cells": [
  {
   "cell_type": "markdown",
   "metadata": {
    "toc": true
   },
   "source": [
    "<h1>Содержание<span class=\"tocSkip\"></span></h1>\n",
    "<div class=\"toc\"><ul class=\"toc-item\"><li><span><a href=\"#Подготовка-данных\" data-toc-modified-id=\"Подготовка-данных-1\"><span class=\"toc-item-num\">1&nbsp;&nbsp;</span>Подготовка данных</a></span><ul class=\"toc-item\"><li><span><a href=\"#Заполнение-пропусков\" data-toc-modified-id=\"Заполнение-пропусков-1.1\"><span class=\"toc-item-num\">1.1&nbsp;&nbsp;</span>Заполнение пропусков</a></span></li><li><span><a href=\"#Прямое-кодирование\" data-toc-modified-id=\"Прямое-кодирование-1.2\"><span class=\"toc-item-num\">1.2&nbsp;&nbsp;</span>Прямое кодирование</a></span></li><li><span><a href=\"#Масштабирование-признаков\" data-toc-modified-id=\"Масштабирование-признаков-1.3\"><span class=\"toc-item-num\">1.3&nbsp;&nbsp;</span>Масштабирование признаков</a></span></li></ul></li><li><span><a href=\"#Исследование-задачи\" data-toc-modified-id=\"Исследование-задачи-2\"><span class=\"toc-item-num\">2&nbsp;&nbsp;</span>Исследование задачи</a></span></li><li><span><a href=\"#Борьба-с-дисбалансом\" data-toc-modified-id=\"Борьба-с-дисбалансом-3\"><span class=\"toc-item-num\">3&nbsp;&nbsp;</span>Борьба с дисбалансом</a></span></li><li><span><a href=\"#Тестирование-модели\" data-toc-modified-id=\"Тестирование-модели-4\"><span class=\"toc-item-num\">4&nbsp;&nbsp;</span>Тестирование модели</a></span></li><li><span><a href=\"#Чек-лист-готовности-проекта\" data-toc-modified-id=\"Чек-лист-готовности-проекта-5\"><span class=\"toc-item-num\">5&nbsp;&nbsp;</span>Чек-лист готовности проекта</a></span></li></ul></div>"
   ]
  },
  {
   "cell_type": "markdown",
   "metadata": {},
   "source": [
    "## Отток клиентов"
   ]
  },
  {
   "cell_type": "markdown",
   "metadata": {},
   "source": [
    "Из «Бета-Банка» стали уходить клиенты. Каждый месяц. Немного, но заметно. Банковские маркетологи посчитали: сохранять текущих клиентов дешевле, чем привлекать новых.\n",
    "\n",
    "Нужно спрогнозировать, уйдёт клиент из банка в ближайшее время или нет. Вам предоставлены исторические данные о поведении клиентов и расторжении договоров с банком. \n",
    "\n",
    "Постройте модель с предельно большим значением *F1*-меры. Чтобы сдать проект успешно, нужно довести метрику до 0.59. Проверьте *F1*-меру на тестовой выборке самостоятельно.\n",
    "\n",
    "Дополнительно измеряйте *AUC-ROC*, сравнивайте её значение с *F1*-мерой.\n",
    "\n",
    "Источник данных: [https://www.kaggle.com/barelydedicated/bank-customer-churn-modeling](https://www.kaggle.com/barelydedicated/bank-customer-churn-modeling)\n",
    "\n",
    "Github: https://github.com/maria-okoledova394/supervised-learning.git"
   ]
  },
  {
   "cell_type": "markdown",
   "metadata": {},
   "source": [
    "## Подготовка данных"
   ]
  },
  {
   "cell_type": "code",
   "execution_count": null,
   "metadata": {},
   "outputs": [],
   "source": [
    "pip install pandas-profiling"
   ]
  },
  {
   "cell_type": "code",
   "execution_count": null,
   "metadata": {},
   "outputs": [],
   "source": [
    "pip install tqdm"
   ]
  },
  {
   "cell_type": "code",
   "execution_count": null,
   "metadata": {},
   "outputs": [],
   "source": [
    "import pandas as pd\n",
    "import numpy as np\n",
    "from sklearn.model_selection import train_test_split\n",
    "from sklearn.tree import DecisionTreeClassifier\n",
    "from sklearn.ensemble import RandomForestClassifier\n",
    "from sklearn.linear_model import LogisticRegression\n",
    "import pandas_profiling\n",
    "import matplotlib.pyplot as plt\n",
    "from sklearn import tree\n",
    "from tqdm.notebook import trange, tqdm\n",
    "from sklearn.preprocessing import StandardScaler\n",
    "from sklearn.metrics import precision_score\n",
    "from sklearn.metrics import confusion_matrix\n",
    "from sklearn.metrics import recall_score\n",
    "from sklearn.metrics import f1_score\n",
    "from sklearn.utils import shuffle\n",
    "from sklearn.metrics import roc_auc_score"
   ]
  },
  {
   "cell_type": "code",
   "execution_count": null,
   "metadata": {},
   "outputs": [],
   "source": [
    "df = pd.read_csv('./datasets/Churn.csv')\n",
    "\n",
    "pandas_profiling.ProfileReport(df)"
   ]
  },
  {
   "cell_type": "markdown",
   "metadata": {},
   "source": [
    "### Заполнение пропусков\n",
    "Пропуски в столбце `Tenure` (сколько лет человек является клиентом банка) составляют 9.1%. Это слишком много, чтобы удалить строки с пропущенными значениями. Заменим пропуски медианой."
   ]
  },
  {
   "cell_type": "code",
   "execution_count": null,
   "metadata": {},
   "outputs": [],
   "source": [
    "df.loc[df['Tenure'].isna(), 'Tenure'] = df['Tenure'].median()\n",
    "\n",
    "df['Tenure'].isna().sum()"
   ]
  },
  {
   "cell_type": "markdown",
   "metadata": {},
   "source": [
    "Подготовим признаки:\n",
    "\n",
    "- Не все признаки нужны для обучения модели. Исключим `RowNumber`, `CustomerId`, `Surname`;\n",
    "- Преобразуем категориальные признаки `Geography`, `Gender` в численные;\n",
    "- Масштабируем численные признаки `CreditScore`, `Age`, `Tenure`, `Balance`, `NumOfProducts`, `EstimatedSalary`."
   ]
  },
  {
   "cell_type": "code",
   "execution_count": null,
   "metadata": {},
   "outputs": [],
   "source": [
    "# исключаем лишние столбцы \n",
    "\n",
    "df = df.drop(['RowNumber', 'CustomerId', 'Surname'], axis=1)"
   ]
  },
  {
   "cell_type": "markdown",
   "metadata": {},
   "source": [
    "### Прямое кодирование\n",
    "\n",
    "Используем технику прямого кодирование для преобразования категориальных столбцов."
   ]
  },
  {
   "cell_type": "code",
   "execution_count": null,
   "metadata": {
    "scrolled": true
   },
   "outputs": [],
   "source": [
    "df_ohe = pd.get_dummies(df, drop_first=True)\n",
    "\n",
    "df_ohe.columns"
   ]
  },
  {
   "cell_type": "markdown",
   "metadata": {},
   "source": [
    "### Масштабирование признаков\n",
    "\n",
    "Используем метод масштабирование - стандартизация данных."
   ]
  },
  {
   "cell_type": "code",
   "execution_count": null,
   "metadata": {},
   "outputs": [],
   "source": [
    "# разделим сначала на обучающую и валидационную + тестовую\n",
    "df_train, df_valid_test = train_test_split(df_ohe, test_size=0.4, stratify=df['Exited'], random_state=12345)\n",
    "\n",
    "# разделим валидационную + тестовую на валидационную и тестовую\n",
    "df_valid, df_test = train_test_split(df_valid_test, test_size=0.5, stratify=df_valid_test['Exited'], random_state=12345)\n",
    "\n",
    "# признаки обучающей выборки\n",
    "features_train = df_train.drop('Exited', axis=1)\n",
    "target_train = df_train['Exited']\n",
    "\n",
    "# признаки валидационной выборки\n",
    "features_valid = df_valid.drop('Exited', axis=1)\n",
    "target_valid = df_valid['Exited']\n",
    "\n",
    "# признаки тестовой выборки\n",
    "features_test = df_test.drop('Exited', axis=1)\n",
    "target_test = df_test['Exited']\n",
    "\n",
    "# масштабирование признаков\n",
    "numeric = ['CreditScore', 'Age', 'Tenure', 'Balance', 'NumOfProducts', 'EstimatedSalary']\n",
    "\n",
    "scaler = StandardScaler()\n",
    "scaler.fit(features_train[numeric])\n",
    "\n",
    "features_train[numeric] = scaler.transform(features_train[numeric])\n",
    "features_valid[numeric] = scaler.transform(features_valid[numeric])\n",
    "features_test[numeric] = scaler.transform(features_test[numeric])"
   ]
  },
  {
   "cell_type": "markdown",
   "metadata": {},
   "source": [
    "Закончили подготовку данных."
   ]
  },
  {
   "cell_type": "markdown",
   "metadata": {},
   "source": [
    "## Исследование задачи"
   ]
  },
  {
   "cell_type": "code",
   "execution_count": null,
   "metadata": {},
   "outputs": [],
   "source": [
    "features_zeros = features_train[target_train == 0]['Age'].count()\n",
    "features_ones = features_train[target_train == 1]['Age'].count()\n",
    "\n",
    "print(features_zeros/features_ones)"
   ]
  },
  {
   "cell_type": "markdown",
   "metadata": {},
   "source": [
    "В нашей задаче дисбаланс классов. В данных 10000 наблюдений, из которых 7963 (79.6%) относятся к нулевому классу и 2037 (20.4%) – к единичному. Соотношение положительного и отрицательного классов примерно 1:4. Это плохо влияет на обучение модели. \n",
    "\n",
    "Обучим сначала модели дерева решений, случайного леса и логистической регрессии без учета дисбаланса классов."
   ]
  },
  {
   "cell_type": "code",
   "execution_count": null,
   "metadata": {},
   "outputs": [],
   "source": [
    "def get_model_metrics(model, features, target, features_test, target_test):\n",
    "    model.fit(features, target)\n",
    "    predicted = model.predict(features_test)\n",
    "    \n",
    "    recall = recall_score(target_test, predicted)\n",
    "    precision = precision_score(target_test, predicted)\n",
    "    f1 = f1_score(target_test, predicted)\n",
    "    \n",
    "    probabilities = model.predict_proba(features_test)\n",
    "    probabilities_one = probabilities[:, 1]\n",
    "    auc_roc = roc_auc_score(target_test, probabilities_one)\n",
    "    \n",
    "    return recall, precision, f1, auc_roc\n",
    "\n",
    "def create_df_mertics(tree = [], forest = [], log_reg = []):\n",
    "    columns = ['model', 'recall', 'precision', 'f1', 'auc_roc']\n",
    "    metrics = [tree, forest, log_reg]\n",
    "\n",
    "    return pd.DataFrame(data=metrics, columns=columns)"
   ]
  },
  {
   "cell_type": "code",
   "execution_count": null,
   "metadata": {},
   "outputs": [],
   "source": [
    "# дерево решений\n",
    "model_tree = DecisionTreeClassifier(random_state=12345)\n",
    "recall_tree, precision_tree, f1_tree, auc_roc_tree = get_model_metrics(\n",
    "    model_tree, features_train, target_train, features_valid, target_valid)\n",
    "tree = ['model_tree', recall_tree, precision_tree, f1_tree, auc_roc_tree]\n",
    "\n",
    "# случайный лес\n",
    "model_forest = RandomForestClassifier(random_state=12345)\n",
    "recall_forest, precision_forest, f1_forest, auc_roc_forest = get_model_metrics(\n",
    "    model_forest, features_train, target_train, features_valid, target_valid)\n",
    "forest = ['model_forest', recall_forest, precision_forest, f1_forest, auc_roc_forest]\n",
    "\n",
    "# логистическая регрессия\n",
    "model_log_reg = LogisticRegression(random_state=12345)\n",
    "recall_log_reg, precision_log_reg, f1_log_reg, auc_roc_log_reg = get_model_metrics(\n",
    "    model_log_reg, features_train, target_train, features_valid, target_valid)\n",
    "log_reg = ['model_log_reg', recall_log_reg, precision_log_reg, f1_log_reg, auc_roc_log_reg]\n",
    "\n",
    "display(create_df_mertics(tree, forest, log_reg))"
   ]
  },
  {
   "cell_type": "markdown",
   "metadata": {},
   "source": [
    "Лучшие результаты F1-меры = 0.61, AUC-ROC = 0.86 у модели случайного леса."
   ]
  },
  {
   "cell_type": "markdown",
   "metadata": {},
   "source": [
    "## Борьба с дисбалансом"
   ]
  },
  {
   "cell_type": "markdown",
   "metadata": {},
   "source": [
    "Избавимся от дисбаланса классов, чтобы получить более высокое значение F1-меры. Добавим параметр class_weight='balanced' моделям, чтобы они учитывали вес классов."
   ]
  },
  {
   "cell_type": "code",
   "execution_count": null,
   "metadata": {},
   "outputs": [],
   "source": [
    "# дерево решений\n",
    "model_tree_balanced = DecisionTreeClassifier(random_state=12345, class_weight='balanced')\n",
    "recall_tree_balanced, precision_tree_balanced, f1_tree_balanced, auc_roc_tree_balanced = get_model_metrics(\n",
    "    model_tree_balanced, features_train, target_train, features_valid, target_valid)\n",
    "tree_balanced = ['model_tree_balanced', recall_tree_balanced, precision_tree_balanced, f1_tree_balanced, auc_roc_tree_balanced]\n",
    "\n",
    "# случайный лес\n",
    "model_forest_balanced = RandomForestClassifier(random_state=12345, class_weight='balanced')\n",
    "recall_forest_balanced, precision_forest_balanced, f1_forest_balanced, auc_roc_forest_balanced = get_model_metrics(\n",
    "    model_forest_balanced, features_train, target_train, features_valid, target_valid)\n",
    "forest_balanced = ['model_forest_balanced', recall_forest_balanced, precision_forest_balanced, f1_forest_balanced, \n",
    "                   auc_roc_forest_balanced]\n",
    "\n",
    "# логистическая регрессия\n",
    "model_log_reg_balanced = LogisticRegression(random_state=12345, class_weight='balanced')\n",
    "recall_log_reg_balanced, precision_log_reg_balanced, f1_log_reg_balanced, auc_roc_log_reg_balanced = get_model_metrics(\n",
    "    model_log_reg_balanced, features_train, target_train, features_valid, target_valid)\n",
    "log_reg_balanced = ['model_log_reg_balanced', recall_log_reg_balanced, precision_log_reg_balanced, f1_log_reg_balanced, \n",
    "                    auc_roc_log_reg_balanced]\n",
    "\n",
    "display(create_df_mertics(tree_balanced, forest_balanced, log_reg_balanced))"
   ]
  },
  {
   "cell_type": "markdown",
   "metadata": {},
   "source": [
    "F1-мера улучшилась у случайного дерева и логистической регрессии, но уменьшилась у случайного дерева. Попробуем увеличить выборку - сделать объекты редкого класса не такими редкими в данных."
   ]
  },
  {
   "cell_type": "code",
   "execution_count": null,
   "metadata": {},
   "outputs": [],
   "source": [
    "def upsample(features, target, repeat):\n",
    "    features_zeros = features[target == 0]\n",
    "    features_ones = features[target == 1]\n",
    "    target_zeros = target[target == 0]\n",
    "    target_ones = target[target == 1]\n",
    "    \n",
    "    features_upsampled = pd.concat([features_zeros] + [features_ones] * repeat)\n",
    "    target_upsampled = pd.concat([target_zeros] + [target_ones] * repeat)\n",
    "    \n",
    "    features_upsampled, target_upsampled = shuffle(\n",
    "        features_upsampled, target_upsampled, random_state=12345)\n",
    "    \n",
    "    return features_upsampled, target_upsampled"
   ]
  },
  {
   "cell_type": "code",
   "execution_count": null,
   "metadata": {},
   "outputs": [],
   "source": [
    "features_train_upsampled, target_train_upsampled = upsample(features_train, target_train, 4)\n",
    "\n",
    "# дерево решений\n",
    "model_tree_upsampled = DecisionTreeClassifier(random_state=12345)\n",
    "recall_tree_upsampled, precision_tree_upsampled, f1_tree_upsampled, auc_roc_tree_upsampled = get_model_metrics(\n",
    "    model_tree_upsampled, features_train_upsampled, target_train_upsampled, features_valid, target_valid)\n",
    "tree_upsampled = ['model_tree_downsampled', recall_tree_upsampled, precision_tree_upsampled, f1_tree_upsampled, \n",
    "                  auc_roc_tree_upsampled]\n",
    "\n",
    "# случайный лес\n",
    "model_forest_upsampled = RandomForestClassifier(random_state=12345)\n",
    "recall_forest_upsampled, precision_forest_upsampled, f1_forest_upsampled, auc_roc_forest_upsampled = get_model_metrics(\n",
    "    model_forest_upsampled, features_train_upsampled, target_train_upsampled, features_valid, target_valid)\n",
    "forest_upsampled = ['model_forest_downsampled', recall_forest_upsampled, precision_forest_upsampled, f1_forest_upsampled, \n",
    "                    auc_roc_forest_upsampled]\n",
    "\n",
    "# логистическая регрессия\n",
    "model_log_reg_upsampled = LogisticRegression(random_state=12345)\n",
    "recall_log_reg_upsampled, precision_log_reg_upsampled, f1_log_reg_upsampled, auc_roc_log_reg_upsampled = get_model_metrics(\n",
    "    model_log_reg_upsampled, features_train_upsampled, target_train_upsampled, features_valid, target_valid)\n",
    "log_reg_upsampled = ['model_log_reg_downsampled', recall_log_reg_upsampled, precision_log_reg_upsampled, f1_log_reg_upsampled, \n",
    "                     auc_roc_log_reg_upsampled]\n",
    "\n",
    "display(create_df_mertics(tree_upsampled, forest_upsampled, log_reg_upsampled))\n",
    "target_train_upsampled.value_counts()"
   ]
  },
  {
   "cell_type": "markdown",
   "metadata": {},
   "source": [
    "Стало лучше. Попробуем другую технику, уменьшить выборку - сделать объекты частого класса не такими частыми."
   ]
  },
  {
   "cell_type": "code",
   "execution_count": null,
   "metadata": {},
   "outputs": [],
   "source": [
    "def downsample(features, target, fraction):\n",
    "    features_zeros = features[target == 0]\n",
    "    features_ones = features[target == 1]\n",
    "    target_zeros = target[target == 0]\n",
    "    target_ones = target[target == 1]\n",
    "    \n",
    "    features_downsampled = pd.concat(\n",
    "        [features_zeros.sample(frac=fraction, random_state=12345)] + [features_ones])\n",
    "    target_downsampled = pd.concat(\n",
    "        [target_zeros.sample(frac=fraction, random_state=12345)] + [target_ones])\n",
    "    \n",
    "    features_downsampled, target_downsampled = shuffle(\n",
    "        features_downsampled, target_downsampled, random_state=12345)\n",
    "    \n",
    "    return features_downsampled, target_downsampled"
   ]
  },
  {
   "cell_type": "code",
   "execution_count": null,
   "metadata": {},
   "outputs": [],
   "source": [
    "features_train_downsampled, target_train_downsampled = downsample(features_train, target_train, 0.25)\n",
    "\n",
    "# дерево решений\n",
    "model_tree_downsampled = DecisionTreeClassifier(random_state=12345)\n",
    "recall_tree_downsampled, precision_tree_downsampled, f1_tree_downsampled, auc_roc_tree_downsampled = get_model_metrics(\n",
    "    model_tree_downsampled, features_train_downsampled, target_train_downsampled, features_valid, target_valid)\n",
    "tree_downsampled = ['model_tree_downsampled', recall_tree_downsampled, precision_tree_downsampled, f1_tree_downsampled, auc_roc_tree_downsampled]\n",
    "\n",
    "# случайный лес\n",
    "model_forest_downsampled = RandomForestClassifier(random_state=12345)\n",
    "recall_forest_downsampled, precision_forest_downsampled, f1_forest_downsampled, auc_roc_forest_downsampled = get_model_metrics(\n",
    "    model_forest_downsampled, features_train_downsampled, target_train_downsampled, features_valid, target_valid)\n",
    "forest_downsampled = ['model_forest_downsampled', recall_forest_downsampled, precision_forest_downsampled, f1_forest_downsampled, auc_roc_forest_downsampled]\n",
    "\n",
    "# логистическая регрессия\n",
    "model_log_reg_downsampled = LogisticRegression(random_state=12345)\n",
    "recall_log_reg_downsampled, precision_log_reg_downsampled, f1_log_reg_downsampled, auc_roc_log_reg_downsampled = get_model_metrics(\n",
    "    model_log_reg_downsampled, features_train_downsampled, target_train_downsampled, features_valid, target_valid)\n",
    "log_reg_downsampled = ['model_log_reg_downsampled', recall_log_reg_downsampled, precision_log_reg_downsampled, f1_log_reg_downsampled, auc_roc_log_reg_downsampled]\n",
    "\n",
    "display(create_df_mertics(tree_downsampled, forest_downsampled, log_reg_downsampled))\n",
    "target_train_downsampled.value_counts()"
   ]
  },
  {
   "cell_type": "markdown",
   "metadata": {},
   "source": [
    "Лучшие результаты у модели случайного леса после увеличения выборки. Подберем лучшую модель, меняя параметры."
   ]
  },
  {
   "cell_type": "code",
   "execution_count": null,
   "metadata": {
    "scrolled": true
   },
   "outputs": [],
   "source": [
    "best_model_forest_upsampled = None\n",
    "best_f1_forest_upsampled = 0\n",
    "best_est_forest_upsampled = 0\n",
    "best_depth_forest_upsampled = 0\n",
    "best_auc_roc_forest_upsampled = 0\n",
    "best_recall_forest_upsampled = 0\n",
    "\n",
    "for est in trange(1, 100, 10):\n",
    "    for depth in range (1, 20):\n",
    "        model_forest_upsampled = RandomForestClassifier(n_estimators=est, max_depth=depth, random_state=12345)\n",
    "        \n",
    "        recall_forest_upsampled, precision_forest_upsampled, f1_forest_upsampled, auc_roc_forest_upsampled = get_model_metrics(\n",
    "            model_forest_upsampled, features_train_upsampled, target_train_upsampled, features_valid, target_valid)\n",
    "        \n",
    "        if f1_forest_upsampled > best_f1_forest_upsampled:\n",
    "            best_model_forest_upsampled = model_forest_upsampled\n",
    "            best_f1_forest_upsampled = f1_forest_upsampled\n",
    "            best_est_forest_upsampled = est\n",
    "            best_depth_forest_upsampled = depth\n",
    "            best_auc_roc_forest_upsampled = auc_roc_forest_upsampled\n",
    "            best_recall_forest_upsampled = recall_forest_upsampled\n",
    "            best_precision_forest_upsampled = precision_forest_upsampled\n",
    "            \n",
    "print(\"F1 наилучшей модели дерева на валидационной выборке:\", best_f1_forest_upsampled, \"Количество деревьев:\", best_est_forest_upsampled, \"Максимальная глубина:\", best_depth_forest_upsampled)\n",
    "display(create_df_mertics(['best_model_forest_upsampled', best_recall_forest_upsampled, best_precision_forest_upsampled, best_f1_forest_upsampled, best_auc_roc_forest_upsampled]).loc[[0]])"
   ]
  },
  {
   "cell_type": "markdown",
   "metadata": {},
   "source": [
    "Вывод:\n",
    "\n",
    "Больше всего f1-мера у модели случайного леса с параметрами:\n",
    "- `n_estimators` = 91 (количество деревьев);\n",
    "- `max_depth` = 11 (максимальная глубина дерева)."
   ]
  },
  {
   "cell_type": "markdown",
   "metadata": {},
   "source": [
    "## Тестирование модели"
   ]
  },
  {
   "cell_type": "markdown",
   "metadata": {},
   "source": [
    "Отдельные обучающие и валидационная выборки были нужны для подбора гиперпараметров. Теперь, чтобы улучшить результаты, обучим модель обучающей + валидационной выборке."
   ]
  },
  {
   "cell_type": "code",
   "execution_count": null,
   "metadata": {},
   "outputs": [],
   "source": [
    "features_train_valid = pd.concat([features_train, features_valid], ignore_index=True)\n",
    "target_train_valid = pd.concat([target_train, target_valid], ignore_index=True)\n",
    "\n",
    "features_train_valid_upsampled, target_train_valid_upsampled = upsample(features_train_valid, target_train_valid, 4)\n",
    "\n",
    "model_forest_test = RandomForestClassifier(n_estimators=best_est_forest_upsampled, max_depth=best_depth_forest_upsampled, \n",
    "                                           random_state=12345)\n",
    "recall_forest_test, precision_forest_test, f1_forest_test, auc_roc_forest_test = get_model_metrics(\n",
    "    model_forest_test, features_train_valid_upsampled, target_train_valid_upsampled, features_test, target_test)\n",
    "\n",
    "print(\"F1 наилучшей модели случайного леса на тестовой выборке:\", f1_forest_test)\n",
    "display(create_df_mertics(['best_model_forest_upsampled', recall_forest_test, precision_forest_test, \n",
    "                           f1_forest_test, auc_roc_forest_test]).loc[[0]])"
   ]
  },
  {
   "cell_type": "markdown",
   "metadata": {},
   "source": [
    "F1-мера на тестовой выборке 0.61. AUC-ROC лучше, чем у случайной модели, но еще далека до 1."
   ]
  }
 ],
 "metadata": {
  "ExecuteTimeLog": [
   {
    "duration": 1364,
    "start_time": "2022-09-03T12:59:46.526Z"
   },
   {
    "duration": 17104,
    "start_time": "2022-09-03T13:00:25.913Z"
   },
   {
    "duration": 2707,
    "start_time": "2022-09-03T13:00:43.020Z"
   },
   {
    "duration": 1502,
    "start_time": "2022-09-03T13:00:51.454Z"
   },
   {
    "duration": 20793,
    "start_time": "2022-09-03T13:01:42.008Z"
   },
   {
    "duration": 28,
    "start_time": "2022-09-03T13:18:17.482Z"
   },
   {
    "duration": 15,
    "start_time": "2022-09-03T13:22:13.709Z"
   },
   {
    "duration": 1438,
    "start_time": "2022-09-03T13:22:32.480Z"
   },
   {
    "duration": 9,
    "start_time": "2022-09-03T13:22:34.440Z"
   },
   {
    "duration": 10,
    "start_time": "2022-09-03T13:23:00.534Z"
   },
   {
    "duration": 12,
    "start_time": "2022-09-03T13:23:07.180Z"
   },
   {
    "duration": 15,
    "start_time": "2022-09-03T13:23:11.680Z"
   },
   {
    "duration": 7,
    "start_time": "2022-09-03T13:23:46.875Z"
   },
   {
    "duration": 7,
    "start_time": "2022-09-03T13:42:44.138Z"
   },
   {
    "duration": 6,
    "start_time": "2022-09-03T13:43:30.207Z"
   },
   {
    "duration": 6,
    "start_time": "2022-09-03T13:43:49.803Z"
   },
   {
    "duration": 12,
    "start_time": "2022-09-03T13:44:04.798Z"
   },
   {
    "duration": 6,
    "start_time": "2022-09-03T13:44:16.402Z"
   },
   {
    "duration": 22,
    "start_time": "2022-09-03T15:14:40.942Z"
   },
   {
    "duration": 5,
    "start_time": "2022-09-03T15:16:06.446Z"
   },
   {
    "duration": 17,
    "start_time": "2022-09-03T15:16:34.774Z"
   },
   {
    "duration": 5,
    "start_time": "2022-09-03T15:17:07.838Z"
   },
   {
    "duration": 27,
    "start_time": "2022-09-03T15:39:23.117Z"
   },
   {
    "duration": 4,
    "start_time": "2022-09-03T15:39:38.316Z"
   },
   {
    "duration": 48,
    "start_time": "2022-09-03T15:39:41.235Z"
   },
   {
    "duration": 53,
    "start_time": "2022-09-03T16:32:01.803Z"
   },
   {
    "duration": 44,
    "start_time": "2022-09-03T18:11:10.525Z"
   },
   {
    "duration": 9,
    "start_time": "2022-09-03T18:13:57.482Z"
   },
   {
    "duration": 55,
    "start_time": "2022-09-03T18:15:55.425Z"
   },
   {
    "duration": 42,
    "start_time": "2022-09-03T19:20:50.815Z"
   },
   {
    "duration": 42,
    "start_time": "2022-09-03T19:29:05.851Z"
   },
   {
    "duration": 57,
    "start_time": "2022-09-03T19:29:08.159Z"
   },
   {
    "duration": 28,
    "start_time": "2022-09-03T19:30:03.247Z"
   },
   {
    "duration": 4,
    "start_time": "2022-09-03T19:30:28.148Z"
   },
   {
    "duration": 4,
    "start_time": "2022-09-03T19:30:29.553Z"
   },
   {
    "duration": 4,
    "start_time": "2022-09-03T19:30:38.036Z"
   },
   {
    "duration": 88,
    "start_time": "2022-09-03T19:30:40.984Z"
   },
   {
    "duration": 85,
    "start_time": "2022-09-03T19:31:08.563Z"
   },
   {
    "duration": 53,
    "start_time": "2022-09-03T19:33:04.508Z"
   },
   {
    "duration": 30,
    "start_time": "2022-09-03T19:35:21.588Z"
   },
   {
    "duration": 35,
    "start_time": "2022-09-03T19:35:41.273Z"
   },
   {
    "duration": 39,
    "start_time": "2022-09-03T19:36:47.524Z"
   },
   {
    "duration": 44,
    "start_time": "2022-09-03T19:36:56.436Z"
   },
   {
    "duration": 47,
    "start_time": "2022-09-03T19:37:01.865Z"
   },
   {
    "duration": 73,
    "start_time": "2022-09-03T19:37:28.673Z"
   },
   {
    "duration": 101,
    "start_time": "2022-09-03T19:37:39.777Z"
   },
   {
    "duration": 114,
    "start_time": "2022-09-03T19:37:47.078Z"
   },
   {
    "duration": 86,
    "start_time": "2022-09-03T19:37:51.859Z"
   },
   {
    "duration": 88,
    "start_time": "2022-09-03T19:37:56.186Z"
   },
   {
    "duration": 120,
    "start_time": "2022-09-03T19:38:00.377Z"
   },
   {
    "duration": 85,
    "start_time": "2022-09-03T19:38:04.254Z"
   },
   {
    "duration": 95,
    "start_time": "2022-09-03T19:38:13.812Z"
   },
   {
    "duration": 93,
    "start_time": "2022-09-03T19:38:19.184Z"
   },
   {
    "duration": 85,
    "start_time": "2022-09-03T19:38:22.064Z"
   },
   {
    "duration": 88,
    "start_time": "2022-09-03T19:38:25.469Z"
   },
   {
    "duration": 36,
    "start_time": "2022-09-03T19:39:36.668Z"
   },
   {
    "duration": 43,
    "start_time": "2022-09-03T19:39:40.759Z"
   },
   {
    "duration": 54,
    "start_time": "2022-09-03T19:39:46.269Z"
   },
   {
    "duration": 42,
    "start_time": "2022-09-03T19:39:50.785Z"
   },
   {
    "duration": 68,
    "start_time": "2022-09-03T19:45:15.546Z"
   },
   {
    "duration": 85,
    "start_time": "2022-09-03T19:45:29.432Z"
   },
   {
    "duration": 40,
    "start_time": "2022-09-03T19:46:46.018Z"
   },
   {
    "duration": 44,
    "start_time": "2022-09-03T19:46:49.871Z"
   },
   {
    "duration": 46,
    "start_time": "2022-09-03T19:49:09.955Z"
   },
   {
    "duration": 702,
    "start_time": "2022-09-03T19:52:22.916Z"
   },
   {
    "duration": 738,
    "start_time": "2022-09-03T19:52:37.772Z"
   },
   {
    "duration": 538,
    "start_time": "2022-09-03T19:52:54.643Z"
   },
   {
    "duration": 654,
    "start_time": "2022-09-03T19:53:00.263Z"
   },
   {
    "duration": 14502,
    "start_time": "2022-09-07T20:14:21.634Z"
   },
   {
    "duration": 2268,
    "start_time": "2022-09-07T20:14:41.997Z"
   },
   {
    "duration": 3689,
    "start_time": "2022-09-07T20:14:50.422Z"
   },
   {
    "duration": 20914,
    "start_time": "2022-09-07T20:14:57.556Z"
   },
   {
    "duration": 10,
    "start_time": "2022-09-07T20:15:24.698Z"
   },
   {
    "duration": 12,
    "start_time": "2022-09-07T20:15:28.566Z"
   },
   {
    "duration": 43,
    "start_time": "2022-09-07T20:16:27.279Z"
   },
   {
    "duration": 220,
    "start_time": "2022-09-07T20:16:29.547Z"
   },
   {
    "duration": 8,
    "start_time": "2022-09-07T20:17:42.663Z"
   },
   {
    "duration": 24,
    "start_time": "2022-09-07T20:17:44.269Z"
   },
   {
    "duration": 2462,
    "start_time": "2022-09-07T20:17:52.057Z"
   },
   {
    "duration": 2240,
    "start_time": "2022-09-07T20:17:54.522Z"
   },
   {
    "duration": 6,
    "start_time": "2022-09-07T20:17:56.764Z"
   },
   {
    "duration": 21154,
    "start_time": "2022-09-07T20:17:56.772Z"
   },
   {
    "duration": 8,
    "start_time": "2022-09-07T20:18:17.928Z"
   },
   {
    "duration": 9,
    "start_time": "2022-09-07T20:18:17.938Z"
   },
   {
    "duration": 64,
    "start_time": "2022-09-07T20:18:17.949Z"
   },
   {
    "duration": 108,
    "start_time": "2022-09-07T20:18:18.019Z"
   },
   {
    "duration": 57,
    "start_time": "2022-09-07T20:18:25.246Z"
   },
   {
    "duration": 58,
    "start_time": "2022-09-07T20:18:33.995Z"
   },
   {
    "duration": 91,
    "start_time": "2022-09-07T20:18:40.467Z"
   },
   {
    "duration": 95,
    "start_time": "2022-09-07T20:18:56.960Z"
   },
   {
    "duration": 87,
    "start_time": "2022-09-07T20:19:00.570Z"
   },
   {
    "duration": 43,
    "start_time": "2022-09-07T20:19:07.917Z"
   },
   {
    "duration": 105,
    "start_time": "2022-09-07T20:19:24.518Z"
   },
   {
    "duration": 116,
    "start_time": "2022-09-07T20:19:27.374Z"
   },
   {
    "duration": 89,
    "start_time": "2022-09-07T20:19:30.313Z"
   },
   {
    "duration": 85,
    "start_time": "2022-09-07T20:19:33.159Z"
   },
   {
    "duration": 79,
    "start_time": "2022-09-07T20:19:37.739Z"
   },
   {
    "duration": 79,
    "start_time": "2022-09-07T20:19:42.156Z"
   },
   {
    "duration": 87,
    "start_time": "2022-09-07T20:19:45.030Z"
   },
   {
    "duration": 86,
    "start_time": "2022-09-07T20:19:48.180Z"
   },
   {
    "duration": 29,
    "start_time": "2022-09-07T20:20:19.312Z"
   },
   {
    "duration": 610,
    "start_time": "2022-09-07T20:20:32.514Z"
   },
   {
    "duration": 1147,
    "start_time": "2022-09-07T20:20:44.926Z"
   },
   {
    "duration": 1222,
    "start_time": "2022-09-07T20:21:07.875Z"
   },
   {
    "duration": 731,
    "start_time": "2022-09-07T22:36:25.691Z"
   },
   {
    "duration": 717,
    "start_time": "2022-09-07T22:37:26.229Z"
   },
   {
    "duration": 164,
    "start_time": "2022-09-07T22:37:42.148Z"
   },
   {
    "duration": 1509,
    "start_time": "2022-09-07T23:09:28.443Z"
   },
   {
    "duration": 415,
    "start_time": "2022-09-07T23:10:11.999Z"
   },
   {
    "duration": 80,
    "start_time": "2022-09-07T23:10:26.462Z"
   },
   {
    "duration": 1072,
    "start_time": "2022-09-07T23:19:23.832Z"
   },
   {
    "duration": 1055,
    "start_time": "2022-09-07T23:53:22.154Z"
   },
   {
    "duration": 974,
    "start_time": "2022-09-07T23:54:39.434Z"
   },
   {
    "duration": 1971,
    "start_time": "2022-09-07T23:56:15.036Z"
   },
   {
    "duration": 11,
    "start_time": "2022-09-07T23:57:03.864Z"
   },
   {
    "duration": 813,
    "start_time": "2022-09-07T23:57:18.798Z"
   },
   {
    "duration": 63340,
    "start_time": "2022-09-08T00:02:07.770Z"
   },
   {
    "duration": 39,
    "start_time": "2022-09-08T00:05:27.230Z"
   },
   {
    "duration": 51129,
    "start_time": "2022-09-08T00:05:41.491Z"
   },
   {
    "duration": 37402,
    "start_time": "2022-09-08T00:07:04.408Z"
   },
   {
    "duration": 128661,
    "start_time": "2022-09-08T00:07:51.943Z"
   },
   {
    "duration": 9960,
    "start_time": "2022-09-08T00:11:38.132Z"
   },
   {
    "duration": 5151,
    "start_time": "2022-09-08T00:12:01.926Z"
   },
   {
    "duration": 725,
    "start_time": "2022-09-08T00:12:28.881Z"
   },
   {
    "duration": 7603,
    "start_time": "2022-09-08T00:12:51.609Z"
   },
   {
    "duration": 7282,
    "start_time": "2022-09-08T00:13:34.561Z"
   },
   {
    "duration": 36,
    "start_time": "2022-09-08T00:14:11.990Z"
   },
   {
    "duration": 38,
    "start_time": "2022-09-08T00:14:15.493Z"
   },
   {
    "duration": 127649,
    "start_time": "2022-09-08T00:14:21.255Z"
   },
   {
    "duration": 127975,
    "start_time": "2022-09-08T00:16:38.902Z"
   },
   {
    "duration": 23237,
    "start_time": "2022-09-08T00:19:25.094Z"
   },
   {
    "duration": 483,
    "start_time": "2022-09-08T00:24:06.533Z"
   },
   {
    "duration": 483,
    "start_time": "2022-09-08T00:24:36.951Z"
   },
   {
    "duration": 46,
    "start_time": "2022-09-08T00:25:59.202Z"
   },
   {
    "duration": 13285,
    "start_time": "2022-09-08T11:22:34.343Z"
   },
   {
    "duration": 1961,
    "start_time": "2022-09-08T11:22:47.630Z"
   },
   {
    "duration": 2003,
    "start_time": "2022-09-08T11:22:49.593Z"
   },
   {
    "duration": 17488,
    "start_time": "2022-09-08T11:22:51.597Z"
   },
   {
    "duration": 8,
    "start_time": "2022-09-08T11:23:09.087Z"
   },
   {
    "duration": 3,
    "start_time": "2022-09-08T11:23:09.106Z"
   },
   {
    "duration": 12,
    "start_time": "2022-09-08T11:23:09.110Z"
   },
   {
    "duration": 35,
    "start_time": "2022-09-08T11:25:29.835Z"
   },
   {
    "duration": 873,
    "start_time": "2022-09-08T11:30:00.741Z"
   },
   {
    "duration": 886,
    "start_time": "2022-09-08T11:30:39.322Z"
   },
   {
    "duration": 14,
    "start_time": "2022-09-08T11:31:40.830Z"
   },
   {
    "duration": 1744,
    "start_time": "2022-09-08T11:34:41.269Z"
   },
   {
    "duration": 4,
    "start_time": "2022-09-08T11:35:14.416Z"
   },
   {
    "duration": 680,
    "start_time": "2022-09-08T15:22:10.032Z"
   },
   {
    "duration": 22135,
    "start_time": "2022-09-08T15:22:14.406Z"
   },
   {
    "duration": 2190,
    "start_time": "2022-09-08T15:23:02.076Z"
   },
   {
    "duration": 2171,
    "start_time": "2022-09-08T15:23:04.269Z"
   },
   {
    "duration": 6,
    "start_time": "2022-09-08T15:23:06.443Z"
   },
   {
    "duration": 17926,
    "start_time": "2022-09-08T15:23:06.452Z"
   },
   {
    "duration": 6,
    "start_time": "2022-09-08T15:23:24.380Z"
   },
   {
    "duration": 9,
    "start_time": "2022-09-08T15:23:24.387Z"
   },
   {
    "duration": 14,
    "start_time": "2022-09-08T15:23:24.397Z"
   },
   {
    "duration": 36,
    "start_time": "2022-09-08T15:23:24.412Z"
   },
   {
    "duration": 1186,
    "start_time": "2022-09-08T15:23:24.450Z"
   },
   {
    "duration": 0,
    "start_time": "2022-09-08T15:23:25.637Z"
   },
   {
    "duration": 0,
    "start_time": "2022-09-08T15:23:25.639Z"
   },
   {
    "duration": 0,
    "start_time": "2022-09-08T15:23:25.640Z"
   },
   {
    "duration": 0,
    "start_time": "2022-09-08T15:23:25.641Z"
   },
   {
    "duration": 0,
    "start_time": "2022-09-08T15:23:25.642Z"
   },
   {
    "duration": 2256,
    "start_time": "2022-09-08T15:23:35.645Z"
   },
   {
    "duration": 1981,
    "start_time": "2022-09-08T15:23:37.904Z"
   },
   {
    "duration": 5,
    "start_time": "2022-09-08T15:23:39.887Z"
   },
   {
    "duration": 17863,
    "start_time": "2022-09-08T15:23:39.893Z"
   },
   {
    "duration": 7,
    "start_time": "2022-09-08T15:23:57.758Z"
   },
   {
    "duration": 8,
    "start_time": "2022-09-08T15:23:57.766Z"
   },
   {
    "duration": 44,
    "start_time": "2022-09-08T15:23:57.776Z"
   },
   {
    "duration": 101,
    "start_time": "2022-09-08T15:23:57.821Z"
   },
   {
    "duration": 975,
    "start_time": "2022-09-08T15:24:29.436Z"
   },
   {
    "duration": 891,
    "start_time": "2022-09-08T15:24:37.216Z"
   },
   {
    "duration": 4,
    "start_time": "2022-09-08T15:24:41.377Z"
   },
   {
    "duration": 1738,
    "start_time": "2022-09-08T15:24:42.669Z"
   },
   {
    "duration": 5,
    "start_time": "2022-09-08T15:24:48.468Z"
   },
   {
    "duration": 823,
    "start_time": "2022-09-08T15:24:49.784Z"
   },
   {
    "duration": 21464,
    "start_time": "2022-09-08T15:29:28.493Z"
   },
   {
    "duration": 426,
    "start_time": "2022-09-08T15:30:02.265Z"
   },
   {
    "duration": 820,
    "start_time": "2022-09-08T15:31:43.194Z"
   },
   {
    "duration": 421,
    "start_time": "2022-09-08T15:34:35.158Z"
   },
   {
    "duration": 287,
    "start_time": "2022-09-08T15:36:19.994Z"
   },
   {
    "duration": 372,
    "start_time": "2022-09-08T15:36:23.905Z"
   },
   {
    "duration": 366,
    "start_time": "2022-09-08T15:36:27.980Z"
   },
   {
    "duration": 502,
    "start_time": "2022-09-08T15:36:31.186Z"
   },
   {
    "duration": 426,
    "start_time": "2022-09-08T15:36:33.774Z"
   },
   {
    "duration": 4,
    "start_time": "2022-09-08T15:59:00.511Z"
   },
   {
    "duration": 5,
    "start_time": "2022-09-08T16:03:27.133Z"
   },
   {
    "duration": 19952,
    "start_time": "2022-09-09T12:08:49.984Z"
   },
   {
    "duration": 2938,
    "start_time": "2022-09-09T12:09:09.939Z"
   },
   {
    "duration": 3065,
    "start_time": "2022-09-09T12:09:12.879Z"
   },
   {
    "duration": 19470,
    "start_time": "2022-09-09T12:09:15.946Z"
   },
   {
    "duration": 7,
    "start_time": "2022-09-09T12:09:35.418Z"
   },
   {
    "duration": 20,
    "start_time": "2022-09-09T12:09:35.427Z"
   },
   {
    "duration": 33,
    "start_time": "2022-09-09T12:09:35.451Z"
   },
   {
    "duration": 82,
    "start_time": "2022-09-09T12:09:35.486Z"
   },
   {
    "duration": 6,
    "start_time": "2022-09-09T12:09:58.766Z"
   },
   {
    "duration": 41,
    "start_time": "2022-09-09T12:11:02.572Z"
   },
   {
    "duration": 40,
    "start_time": "2022-09-09T12:12:41.492Z"
   },
   {
    "duration": 39,
    "start_time": "2022-09-09T12:12:55.196Z"
   },
   {
    "duration": 51,
    "start_time": "2022-09-09T12:13:04.040Z"
   },
   {
    "duration": 40,
    "start_time": "2022-09-09T12:15:26.875Z"
   },
   {
    "duration": 877,
    "start_time": "2022-09-09T12:17:05.672Z"
   },
   {
    "duration": 4,
    "start_time": "2022-09-09T12:20:07.084Z"
   },
   {
    "duration": 1609,
    "start_time": "2022-09-09T12:21:20.440Z"
   },
   {
    "duration": 1370,
    "start_time": "2022-09-09T12:25:27.689Z"
   },
   {
    "duration": 1552,
    "start_time": "2022-09-09T12:27:34.495Z"
   },
   {
    "duration": 200,
    "start_time": "2022-09-09T12:30:09.077Z"
   },
   {
    "duration": 4,
    "start_time": "2022-09-09T12:30:13.679Z"
   },
   {
    "duration": 2787,
    "start_time": "2022-09-09T12:30:15.784Z"
   },
   {
    "duration": 6,
    "start_time": "2022-09-09T12:30:53.144Z"
   },
   {
    "duration": 2498,
    "start_time": "2022-09-09T12:31:33.679Z"
   },
   {
    "duration": 1046,
    "start_time": "2022-09-09T12:32:24.001Z"
   },
   {
    "duration": 990,
    "start_time": "2022-09-09T12:33:17.695Z"
   },
   {
    "duration": 1624,
    "start_time": "2022-09-09T12:33:19.524Z"
   },
   {
    "duration": 1191,
    "start_time": "2022-09-09T12:33:22.178Z"
   },
   {
    "duration": 1064,
    "start_time": "2022-09-09T12:33:24.193Z"
   },
   {
    "duration": 1122,
    "start_time": "2022-09-09T12:34:43.535Z"
   },
   {
    "duration": 846,
    "start_time": "2022-09-09T12:34:52.913Z"
   },
   {
    "duration": 942,
    "start_time": "2022-09-09T12:34:58.722Z"
   },
   {
    "duration": 846,
    "start_time": "2022-09-09T12:38:42.019Z"
   },
   {
    "duration": 1278,
    "start_time": "2022-09-09T12:39:33.769Z"
   },
   {
    "duration": 667,
    "start_time": "2022-09-09T12:39:38.799Z"
   },
   {
    "duration": 1185,
    "start_time": "2022-09-09T12:57:31.871Z"
   },
   {
    "duration": 1248,
    "start_time": "2022-09-09T12:57:53.004Z"
   },
   {
    "duration": 772,
    "start_time": "2022-09-09T12:58:03.082Z"
   },
   {
    "duration": 839,
    "start_time": "2022-09-09T12:58:07.236Z"
   },
   {
    "duration": 982,
    "start_time": "2022-09-09T12:58:16.080Z"
   },
   {
    "duration": 1065,
    "start_time": "2022-09-09T12:58:39.091Z"
   },
   {
    "duration": 1146,
    "start_time": "2022-09-09T12:58:53.606Z"
   },
   {
    "duration": 26803,
    "start_time": "2022-09-09T13:02:44.278Z"
   },
   {
    "duration": 5,
    "start_time": "2022-09-09T13:04:07.440Z"
   },
   {
    "duration": 5,
    "start_time": "2022-09-09T13:04:18.474Z"
   },
   {
    "duration": 27191,
    "start_time": "2022-09-09T13:04:58.000Z"
   },
   {
    "duration": 4,
    "start_time": "2022-09-09T13:06:34.912Z"
   },
   {
    "duration": 12,
    "start_time": "2022-09-09T13:06:38.991Z"
   },
   {
    "duration": 1099,
    "start_time": "2022-09-09T13:07:07.506Z"
   },
   {
    "duration": 6,
    "start_time": "2022-09-09T13:07:19.671Z"
   },
   {
    "duration": 10,
    "start_time": "2022-09-09T13:07:45.615Z"
   },
   {
    "duration": 25747,
    "start_time": "2022-09-09T13:08:19.581Z"
   },
   {
    "duration": 25,
    "start_time": "2022-09-09T13:10:12.626Z"
   },
   {
    "duration": 21,
    "start_time": "2022-09-09T13:11:42.772Z"
   },
   {
    "duration": 542,
    "start_time": "2022-09-09T13:12:05.092Z"
   },
   {
    "duration": 6,
    "start_time": "2022-09-09T13:16:07.702Z"
   },
   {
    "duration": 1466,
    "start_time": "2022-09-09T13:16:55.916Z"
   },
   {
    "duration": 1383,
    "start_time": "2022-09-09T13:59:46.566Z"
   },
   {
    "duration": 2298,
    "start_time": "2022-09-09T14:00:39.668Z"
   },
   {
    "duration": 1034,
    "start_time": "2022-09-09T14:01:29.328Z"
   },
   {
    "duration": 25852,
    "start_time": "2022-09-09T14:02:26.113Z"
   },
   {
    "duration": 22,
    "start_time": "2022-09-09T14:07:32.508Z"
   },
   {
    "duration": 538,
    "start_time": "2022-09-09T14:07:45.803Z"
   },
   {
    "duration": 499,
    "start_time": "2022-09-09T14:32:25.625Z"
   },
   {
    "duration": 2322,
    "start_time": "2022-09-09T14:37:45.094Z"
   },
   {
    "duration": 2202,
    "start_time": "2022-09-09T14:37:47.418Z"
   },
   {
    "duration": 2082,
    "start_time": "2022-09-09T14:37:49.623Z"
   },
   {
    "duration": 19161,
    "start_time": "2022-09-09T14:37:51.706Z"
   },
   {
    "duration": 9,
    "start_time": "2022-09-09T14:38:10.870Z"
   },
   {
    "duration": 27,
    "start_time": "2022-09-09T14:38:10.881Z"
   },
   {
    "duration": 42,
    "start_time": "2022-09-09T14:38:10.910Z"
   },
   {
    "duration": 96,
    "start_time": "2022-09-09T14:38:10.954Z"
   },
   {
    "duration": 5,
    "start_time": "2022-09-09T14:38:11.052Z"
   },
   {
    "duration": 1292,
    "start_time": "2022-09-09T14:38:11.060Z"
   },
   {
    "duration": 1197,
    "start_time": "2022-09-09T14:38:12.356Z"
   },
   {
    "duration": 92,
    "start_time": "2022-09-09T14:38:13.555Z"
   },
   {
    "duration": 2111,
    "start_time": "2022-09-09T14:38:13.649Z"
   },
   {
    "duration": 4,
    "start_time": "2022-09-09T14:38:15.847Z"
   },
   {
    "duration": 898,
    "start_time": "2022-09-09T14:38:15.853Z"
   },
   {
    "duration": 24549,
    "start_time": "2022-09-09T14:38:16.755Z"
   },
   {
    "duration": 540,
    "start_time": "2022-09-09T14:38:41.306Z"
   },
   {
    "duration": 2487,
    "start_time": "2022-09-09T15:08:24.344Z"
   },
   {
    "duration": 2192,
    "start_time": "2022-09-09T15:08:26.833Z"
   },
   {
    "duration": 2007,
    "start_time": "2022-09-09T15:08:29.028Z"
   },
   {
    "duration": 19998,
    "start_time": "2022-09-09T15:08:31.037Z"
   },
   {
    "duration": 14,
    "start_time": "2022-09-09T15:08:51.037Z"
   },
   {
    "duration": 19,
    "start_time": "2022-09-09T15:08:51.053Z"
   },
   {
    "duration": 75,
    "start_time": "2022-09-09T15:08:51.074Z"
   },
   {
    "duration": 102,
    "start_time": "2022-09-09T15:08:51.152Z"
   },
   {
    "duration": 6,
    "start_time": "2022-09-09T15:08:51.256Z"
   },
   {
    "duration": 1383,
    "start_time": "2022-09-09T15:08:51.265Z"
   },
   {
    "duration": 273,
    "start_time": "2022-09-09T15:08:52.650Z"
   },
   {
    "duration": 0,
    "start_time": "2022-09-09T15:08:52.925Z"
   },
   {
    "duration": 0,
    "start_time": "2022-09-09T15:08:52.926Z"
   },
   {
    "duration": 0,
    "start_time": "2022-09-09T15:08:52.928Z"
   },
   {
    "duration": 0,
    "start_time": "2022-09-09T15:08:52.947Z"
   },
   {
    "duration": 0,
    "start_time": "2022-09-09T15:08:52.948Z"
   },
   {
    "duration": 0,
    "start_time": "2022-09-09T15:08:52.950Z"
   },
   {
    "duration": 1002,
    "start_time": "2022-09-09T15:11:30.952Z"
   },
   {
    "duration": 2426,
    "start_time": "2022-09-09T15:11:47.783Z"
   },
   {
    "duration": 2507,
    "start_time": "2022-09-09T15:11:50.211Z"
   },
   {
    "duration": 2057,
    "start_time": "2022-09-09T15:11:52.720Z"
   },
   {
    "duration": 20629,
    "start_time": "2022-09-09T15:11:54.779Z"
   },
   {
    "duration": 9,
    "start_time": "2022-09-09T15:12:15.411Z"
   },
   {
    "duration": 32,
    "start_time": "2022-09-09T15:12:15.422Z"
   },
   {
    "duration": 22,
    "start_time": "2022-09-09T15:12:15.456Z"
   },
   {
    "duration": 99,
    "start_time": "2022-09-09T15:12:15.480Z"
   },
   {
    "duration": 5,
    "start_time": "2022-09-09T15:12:15.581Z"
   },
   {
    "duration": 1268,
    "start_time": "2022-09-09T15:12:15.590Z"
   },
   {
    "duration": 1188,
    "start_time": "2022-09-09T15:12:16.860Z"
   },
   {
    "duration": 6,
    "start_time": "2022-09-09T15:12:18.050Z"
   },
   {
    "duration": 2211,
    "start_time": "2022-09-09T15:12:18.146Z"
   },
   {
    "duration": 6,
    "start_time": "2022-09-09T15:12:20.451Z"
   },
   {
    "duration": 889,
    "start_time": "2022-09-09T15:12:20.460Z"
   },
   {
    "duration": 25854,
    "start_time": "2022-09-09T15:12:21.351Z"
   },
   {
    "duration": 596,
    "start_time": "2022-09-09T15:12:47.206Z"
   },
   {
    "duration": 13359,
    "start_time": "2022-09-10T21:03:16.432Z"
   },
   {
    "duration": 1876,
    "start_time": "2022-09-10T21:03:29.793Z"
   },
   {
    "duration": 2076,
    "start_time": "2022-09-10T21:03:31.671Z"
   },
   {
    "duration": 17544,
    "start_time": "2022-09-10T21:03:33.750Z"
   },
   {
    "duration": 7,
    "start_time": "2022-09-10T21:03:51.296Z"
   },
   {
    "duration": 4,
    "start_time": "2022-09-10T21:03:51.305Z"
   },
   {
    "duration": 12,
    "start_time": "2022-09-10T21:03:51.311Z"
   },
   {
    "duration": 61,
    "start_time": "2022-09-10T21:03:51.324Z"
   },
   {
    "duration": 4,
    "start_time": "2022-09-10T21:03:51.387Z"
   },
   {
    "duration": 1163,
    "start_time": "2022-09-10T21:03:51.393Z"
   },
   {
    "duration": 1001,
    "start_time": "2022-09-10T21:03:52.558Z"
   },
   {
    "duration": 95,
    "start_time": "2022-09-10T21:03:53.561Z"
   },
   {
    "duration": 2139,
    "start_time": "2022-09-10T21:04:36.530Z"
   },
   {
    "duration": 1858,
    "start_time": "2022-09-10T21:04:38.671Z"
   },
   {
    "duration": 4,
    "start_time": "2022-09-10T21:04:40.531Z"
   },
   {
    "duration": 17168,
    "start_time": "2022-09-10T21:04:40.537Z"
   },
   {
    "duration": 7,
    "start_time": "2022-09-10T21:04:57.707Z"
   },
   {
    "duration": 4,
    "start_time": "2022-09-10T21:04:57.715Z"
   },
   {
    "duration": 40,
    "start_time": "2022-09-10T21:04:57.720Z"
   },
   {
    "duration": 94,
    "start_time": "2022-09-10T21:04:57.761Z"
   },
   {
    "duration": 4,
    "start_time": "2022-09-10T21:04:57.857Z"
   },
   {
    "duration": 1005,
    "start_time": "2022-09-10T21:04:57.864Z"
   },
   {
    "duration": 1202,
    "start_time": "2022-09-10T21:04:58.956Z"
   },
   {
    "duration": 4,
    "start_time": "2022-09-10T21:05:00.160Z"
   },
   {
    "duration": 14,
    "start_time": "2022-09-10T21:05:10.102Z"
   },
   {
    "duration": 14,
    "start_time": "2022-09-10T21:52:57.064Z"
   },
   {
    "duration": 9,
    "start_time": "2022-09-10T21:53:10.081Z"
   },
   {
    "duration": 6,
    "start_time": "2022-09-10T21:53:44.778Z"
   },
   {
    "duration": 15,
    "start_time": "2022-09-10T21:53:56.695Z"
   },
   {
    "duration": 37,
    "start_time": "2022-09-10T21:54:42.147Z"
   },
   {
    "duration": 6,
    "start_time": "2022-09-10T21:54:44.490Z"
   },
   {
    "duration": 4,
    "start_time": "2022-09-10T21:54:45.726Z"
   },
   {
    "duration": 10,
    "start_time": "2022-09-10T21:54:47.629Z"
   },
   {
    "duration": 36,
    "start_time": "2022-09-10T21:54:49.647Z"
   },
   {
    "duration": 5,
    "start_time": "2022-09-10T21:55:11.759Z"
   },
   {
    "duration": 6,
    "start_time": "2022-09-10T21:56:10.576Z"
   },
   {
    "duration": 161,
    "start_time": "2022-09-10T21:56:30.334Z"
   },
   {
    "duration": 11,
    "start_time": "2022-09-10T21:56:40.199Z"
   },
   {
    "duration": 1218,
    "start_time": "2022-09-10T21:56:54.138Z"
   },
   {
    "duration": 12,
    "start_time": "2022-09-10T22:13:53.542Z"
   },
   {
    "duration": 7073,
    "start_time": "2022-09-10T22:14:03.983Z"
   },
   {
    "duration": 7,
    "start_time": "2022-09-10T22:14:40.263Z"
   },
   {
    "duration": 6,
    "start_time": "2022-09-10T22:15:54.950Z"
   },
   {
    "duration": 1147,
    "start_time": "2022-09-10T22:57:42.414Z"
   },
   {
    "duration": 1447,
    "start_time": "2022-09-10T23:00:22.710Z"
   },
   {
    "duration": 2330,
    "start_time": "2022-09-10T23:01:05.018Z"
   },
   {
    "duration": 1217,
    "start_time": "2022-09-10T23:01:45.248Z"
   },
   {
    "duration": 1217,
    "start_time": "2022-09-10T23:01:58.543Z"
   },
   {
    "duration": 6,
    "start_time": "2022-09-10T23:02:50.300Z"
   },
   {
    "duration": 14,
    "start_time": "2022-09-10T23:03:04.999Z"
   },
   {
    "duration": 3,
    "start_time": "2022-09-10T23:03:09.841Z"
   },
   {
    "duration": 568,
    "start_time": "2022-09-10T23:03:10.692Z"
   },
   {
    "duration": 723,
    "start_time": "2022-09-10T23:03:19.435Z"
   },
   {
    "duration": 605,
    "start_time": "2022-09-10T23:03:24.551Z"
   },
   {
    "duration": 620,
    "start_time": "2022-09-10T23:03:31.040Z"
   },
   {
    "duration": 18343,
    "start_time": "2022-09-10T23:17:26.183Z"
   },
   {
    "duration": 37824,
    "start_time": "2022-09-10T23:18:57.811Z"
   },
   {
    "duration": 37787,
    "start_time": "2022-09-10T23:32:14.108Z"
   },
   {
    "duration": 860,
    "start_time": "2022-09-10T23:33:13.819Z"
   },
   {
    "duration": 1902,
    "start_time": "2022-09-10T23:33:41.325Z"
   },
   {
    "duration": 1785,
    "start_time": "2022-09-10T23:33:43.229Z"
   },
   {
    "duration": 1776,
    "start_time": "2022-09-10T23:33:45.015Z"
   },
   {
    "duration": 42,
    "start_time": "2022-09-10T23:33:46.793Z"
   },
   {
    "duration": 7,
    "start_time": "2022-09-10T23:33:46.836Z"
   },
   {
    "duration": 4,
    "start_time": "2022-09-10T23:33:46.845Z"
   },
   {
    "duration": 13,
    "start_time": "2022-09-10T23:33:46.850Z"
   },
   {
    "duration": 33,
    "start_time": "2022-09-10T23:33:46.864Z"
   },
   {
    "duration": 7,
    "start_time": "2022-09-10T23:33:46.899Z"
   },
   {
    "duration": 4,
    "start_time": "2022-09-10T23:33:46.908Z"
   },
   {
    "duration": 1043,
    "start_time": "2022-09-10T23:33:46.913Z"
   },
   {
    "duration": 998,
    "start_time": "2022-09-10T23:33:47.958Z"
   },
   {
    "duration": 5,
    "start_time": "2022-09-10T23:33:48.958Z"
   },
   {
    "duration": 1298,
    "start_time": "2022-09-10T23:33:48.964Z"
   },
   {
    "duration": 91,
    "start_time": "2022-09-10T23:33:50.264Z"
   },
   {
    "duration": 599,
    "start_time": "2022-09-10T23:33:50.357Z"
   },
   {
    "duration": 38036,
    "start_time": "2022-09-10T23:33:50.958Z"
   },
   {
    "duration": 860,
    "start_time": "2022-09-10T23:34:28.995Z"
   },
   {
    "duration": 13254,
    "start_time": "2022-09-12T12:39:20.693Z"
   },
   {
    "duration": 2245,
    "start_time": "2022-09-12T12:39:33.949Z"
   },
   {
    "duration": 2166,
    "start_time": "2022-09-12T12:39:36.196Z"
   },
   {
    "duration": 18423,
    "start_time": "2022-09-12T12:39:38.364Z"
   },
   {
    "duration": 6,
    "start_time": "2022-09-12T12:39:56.790Z"
   },
   {
    "duration": 4,
    "start_time": "2022-09-12T12:39:56.798Z"
   },
   {
    "duration": 13,
    "start_time": "2022-09-12T12:39:56.803Z"
   },
   {
    "duration": 35,
    "start_time": "2022-09-12T12:39:56.838Z"
   },
   {
    "duration": 6,
    "start_time": "2022-09-12T12:39:56.874Z"
   },
   {
    "duration": 58,
    "start_time": "2022-09-12T12:39:56.881Z"
   },
   {
    "duration": 1397,
    "start_time": "2022-09-12T12:39:56.940Z"
   },
   {
    "duration": 1100,
    "start_time": "2022-09-12T12:39:58.339Z"
   },
   {
    "duration": 96,
    "start_time": "2022-09-12T12:39:59.441Z"
   },
   {
    "duration": 1504,
    "start_time": "2022-09-12T12:39:59.540Z"
   },
   {
    "duration": 6,
    "start_time": "2022-09-12T12:40:01.136Z"
   },
   {
    "duration": 902,
    "start_time": "2022-09-12T12:40:01.144Z"
   },
   {
    "duration": 42700,
    "start_time": "2022-09-12T12:40:02.138Z"
   },
   {
    "duration": 972,
    "start_time": "2022-09-12T12:40:44.839Z"
   }
  ],
  "kernelspec": {
   "display_name": "Python 3 (ipykernel)",
   "language": "python",
   "name": "python3"
  },
  "language_info": {
   "codemirror_mode": {
    "name": "ipython",
    "version": 3
   },
   "file_extension": ".py",
   "mimetype": "text/x-python",
   "name": "python",
   "nbconvert_exporter": "python",
   "pygments_lexer": "ipython3",
   "version": "3.9.12"
  },
  "toc": {
   "base_numbering": 1,
   "nav_menu": {},
   "number_sections": true,
   "sideBar": true,
   "skip_h1_title": true,
   "title_cell": "Содержание",
   "title_sidebar": "Contents",
   "toc_cell": true,
   "toc_position": {
    "height": "calc(100% - 180px)",
    "left": "10px",
    "top": "150px",
    "width": "164.977px"
   },
   "toc_section_display": true,
   "toc_window_display": true
  }
 },
 "nbformat": 4,
 "nbformat_minor": 2
}
